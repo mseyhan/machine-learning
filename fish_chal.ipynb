{
 "metadata": {
  "language_info": {
   "codemirror_mode": {
    "name": "ipython",
    "version": 3
   },
   "file_extension": ".py",
   "mimetype": "text/x-python",
   "name": "python",
   "nbconvert_exporter": "python",
   "pygments_lexer": "ipython3",
   "version": "3.7.6-final"
  },
  "orig_nbformat": 2,
  "kernelspec": {
   "name": "python3",
   "display_name": "Python 3.7.6 64-bit (conda)",
   "metadata": {
    "interpreter": {
     "hash": "c469c999aae2bf6d578d6881606ced546d1546d312a4811937df5b24665ee8bc"
    }
   }
  }
 },
 "nbformat": 4,
 "nbformat_minor": 2,
 "cells": [
  {
   "cell_type": "code",
   "execution_count": 1,
   "metadata": {},
   "outputs": [
    {
     "output_type": "execute_result",
     "data": {
      "text/plain": [
       "  Species  Weight  Length1  Length2  Length3   Height   Width\n",
       "0   Bream   242.0     23.2     25.4     30.0  11.5200  4.0200\n",
       "1   Bream   290.0     24.0     26.3     31.2  12.4800  4.3056\n",
       "2   Bream   340.0     23.9     26.5     31.1  12.3778  4.6961\n",
       "3   Bream   363.0     26.3     29.0     33.5  12.7300  4.4555\n",
       "4   Bream   430.0     26.5     29.0     34.0  12.4440  5.1340"
      ],
      "text/html": "<div>\n<style scoped>\n    .dataframe tbody tr th:only-of-type {\n        vertical-align: middle;\n    }\n\n    .dataframe tbody tr th {\n        vertical-align: top;\n    }\n\n    .dataframe thead th {\n        text-align: right;\n    }\n</style>\n<table border=\"1\" class=\"dataframe\">\n  <thead>\n    <tr style=\"text-align: right;\">\n      <th></th>\n      <th>Species</th>\n      <th>Weight</th>\n      <th>Length1</th>\n      <th>Length2</th>\n      <th>Length3</th>\n      <th>Height</th>\n      <th>Width</th>\n    </tr>\n  </thead>\n  <tbody>\n    <tr>\n      <th>0</th>\n      <td>Bream</td>\n      <td>242.0</td>\n      <td>23.2</td>\n      <td>25.4</td>\n      <td>30.0</td>\n      <td>11.5200</td>\n      <td>4.0200</td>\n    </tr>\n    <tr>\n      <th>1</th>\n      <td>Bream</td>\n      <td>290.0</td>\n      <td>24.0</td>\n      <td>26.3</td>\n      <td>31.2</td>\n      <td>12.4800</td>\n      <td>4.3056</td>\n    </tr>\n    <tr>\n      <th>2</th>\n      <td>Bream</td>\n      <td>340.0</td>\n      <td>23.9</td>\n      <td>26.5</td>\n      <td>31.1</td>\n      <td>12.3778</td>\n      <td>4.6961</td>\n    </tr>\n    <tr>\n      <th>3</th>\n      <td>Bream</td>\n      <td>363.0</td>\n      <td>26.3</td>\n      <td>29.0</td>\n      <td>33.5</td>\n      <td>12.7300</td>\n      <td>4.4555</td>\n    </tr>\n    <tr>\n      <th>4</th>\n      <td>Bream</td>\n      <td>430.0</td>\n      <td>26.5</td>\n      <td>29.0</td>\n      <td>34.0</td>\n      <td>12.4440</td>\n      <td>5.1340</td>\n    </tr>\n  </tbody>\n</table>\n</div>"
     },
     "metadata": {},
     "execution_count": 1
    }
   ],
   "source": [
    "import pandas as pd\n",
    "fishy = pd.read_csv(\"../data/Fish.csv\")\n",
    "fishy.head()"
   ]
  },
  {
   "cell_type": "code",
   "execution_count": 2,
   "metadata": {},
   "outputs": [
    {
     "output_type": "execute_result",
     "data": {
      "text/plain": [
       "            Weight     Length1     Length2     Length3      Height       Width\n",
       "count   159.000000  159.000000  159.000000  159.000000  159.000000  159.000000\n",
       "mean    398.326415   26.247170   28.415723   31.227044    8.970994    4.417486\n",
       "std     357.978317    9.996441   10.716328   11.610246    4.286208    1.685804\n",
       "min       0.000000    7.500000    8.400000    8.800000    1.728400    1.047600\n",
       "25%     120.000000   19.050000   21.000000   23.150000    5.944800    3.385650\n",
       "50%     273.000000   25.200000   27.300000   29.400000    7.786000    4.248500\n",
       "75%     650.000000   32.700000   35.500000   39.650000   12.365900    5.584500\n",
       "max    1650.000000   59.000000   63.400000   68.000000   18.957000    8.142000"
      ],
      "text/html": "<div>\n<style scoped>\n    .dataframe tbody tr th:only-of-type {\n        vertical-align: middle;\n    }\n\n    .dataframe tbody tr th {\n        vertical-align: top;\n    }\n\n    .dataframe thead th {\n        text-align: right;\n    }\n</style>\n<table border=\"1\" class=\"dataframe\">\n  <thead>\n    <tr style=\"text-align: right;\">\n      <th></th>\n      <th>Weight</th>\n      <th>Length1</th>\n      <th>Length2</th>\n      <th>Length3</th>\n      <th>Height</th>\n      <th>Width</th>\n    </tr>\n  </thead>\n  <tbody>\n    <tr>\n      <th>count</th>\n      <td>159.000000</td>\n      <td>159.000000</td>\n      <td>159.000000</td>\n      <td>159.000000</td>\n      <td>159.000000</td>\n      <td>159.000000</td>\n    </tr>\n    <tr>\n      <th>mean</th>\n      <td>398.326415</td>\n      <td>26.247170</td>\n      <td>28.415723</td>\n      <td>31.227044</td>\n      <td>8.970994</td>\n      <td>4.417486</td>\n    </tr>\n    <tr>\n      <th>std</th>\n      <td>357.978317</td>\n      <td>9.996441</td>\n      <td>10.716328</td>\n      <td>11.610246</td>\n      <td>4.286208</td>\n      <td>1.685804</td>\n    </tr>\n    <tr>\n      <th>min</th>\n      <td>0.000000</td>\n      <td>7.500000</td>\n      <td>8.400000</td>\n      <td>8.800000</td>\n      <td>1.728400</td>\n      <td>1.047600</td>\n    </tr>\n    <tr>\n      <th>25%</th>\n      <td>120.000000</td>\n      <td>19.050000</td>\n      <td>21.000000</td>\n      <td>23.150000</td>\n      <td>5.944800</td>\n      <td>3.385650</td>\n    </tr>\n    <tr>\n      <th>50%</th>\n      <td>273.000000</td>\n      <td>25.200000</td>\n      <td>27.300000</td>\n      <td>29.400000</td>\n      <td>7.786000</td>\n      <td>4.248500</td>\n    </tr>\n    <tr>\n      <th>75%</th>\n      <td>650.000000</td>\n      <td>32.700000</td>\n      <td>35.500000</td>\n      <td>39.650000</td>\n      <td>12.365900</td>\n      <td>5.584500</td>\n    </tr>\n    <tr>\n      <th>max</th>\n      <td>1650.000000</td>\n      <td>59.000000</td>\n      <td>63.400000</td>\n      <td>68.000000</td>\n      <td>18.957000</td>\n      <td>8.142000</td>\n    </tr>\n  </tbody>\n</table>\n</div>"
     },
     "metadata": {},
     "execution_count": 2
    }
   ],
   "source": [
    "fishy.describe()"
   ]
  },
  {
   "cell_type": "code",
   "execution_count": 3,
   "metadata": {},
   "outputs": [
    {
     "output_type": "stream",
     "name": "stdout",
     "text": [
      "<class 'pandas.core.frame.DataFrame'>\nRangeIndex: 159 entries, 0 to 158\nData columns (total 7 columns):\n #   Column   Non-Null Count  Dtype  \n---  ------   --------------  -----  \n 0   Species  159 non-null    object \n 1   Weight   159 non-null    float64\n 2   Length1  159 non-null    float64\n 3   Length2  159 non-null    float64\n 4   Length3  159 non-null    float64\n 5   Height   159 non-null    float64\n 6   Width    159 non-null    float64\ndtypes: float64(6), object(1)\nmemory usage: 8.8+ KB\n"
     ]
    }
   ],
   "source": [
    "fishy.info()"
   ]
  },
  {
   "cell_type": "code",
   "execution_count": 6,
   "metadata": {},
   "outputs": [
    {
     "output_type": "execute_result",
     "data": {
      "text/plain": [
       "40        0.0\n",
       "72        5.9\n",
       "145       6.7\n",
       "147       7.0\n",
       "146       7.5\n",
       "        ...  \n",
       "125    1100.0\n",
       "141    1250.0\n",
       "143    1550.0\n",
       "142    1600.0\n",
       "144    1650.0\n",
       "Name: Weight, Length: 159, dtype: float64"
      ]
     },
     "metadata": {},
     "execution_count": 6
    }
   ],
   "source": [
    "fishy[\"Weight\"].sort_values(ascending=True)"
   ]
  },
  {
   "cell_type": "code",
   "execution_count": 7,
   "metadata": {},
   "outputs": [
    {
     "output_type": "execute_result",
     "data": {
      "text/plain": [
       "   Species  Weight  Length1  Length2  Length3  Height   Width\n",
       "40   Roach     0.0     19.0     20.5     22.8  6.4752  3.3516"
      ],
      "text/html": "<div>\n<style scoped>\n    .dataframe tbody tr th:only-of-type {\n        vertical-align: middle;\n    }\n\n    .dataframe tbody tr th {\n        vertical-align: top;\n    }\n\n    .dataframe thead th {\n        text-align: right;\n    }\n</style>\n<table border=\"1\" class=\"dataframe\">\n  <thead>\n    <tr style=\"text-align: right;\">\n      <th></th>\n      <th>Species</th>\n      <th>Weight</th>\n      <th>Length1</th>\n      <th>Length2</th>\n      <th>Length3</th>\n      <th>Height</th>\n      <th>Width</th>\n    </tr>\n  </thead>\n  <tbody>\n    <tr>\n      <th>40</th>\n      <td>Roach</td>\n      <td>0.0</td>\n      <td>19.0</td>\n      <td>20.5</td>\n      <td>22.8</td>\n      <td>6.4752</td>\n      <td>3.3516</td>\n    </tr>\n  </tbody>\n</table>\n</div>"
     },
     "metadata": {},
     "execution_count": 7
    }
   ],
   "source": [
    "zero = fishy[\"Weight\"] == 0.0\n",
    "fishy[zero]"
   ]
  },
  {
   "cell_type": "code",
   "execution_count": 13,
   "metadata": {},
   "outputs": [
    {
     "output_type": "execute_result",
     "data": {
      "text/plain": [
       "   Species  Weight  Length1  Length2  Length3  Height   Width\n",
       "35   Roach    40.0     12.9     14.1     16.2  4.1472  2.2680\n",
       "36   Roach    69.0     16.5     18.2     20.3  5.2983  2.8217\n",
       "37   Roach    78.0     17.5     18.8     21.2  5.5756  2.9044\n",
       "38   Roach    87.0     18.2     19.8     22.2  5.6166  3.1746\n",
       "39   Roach   120.0     18.6     20.0     22.2  6.2160  3.5742\n",
       "40   Roach     0.0     19.0     20.5     22.8  6.4752  3.3516\n",
       "41   Roach   110.0     19.1     20.8     23.1  6.1677  3.3957\n",
       "42   Roach   120.0     19.4     21.0     23.7  6.1146  3.2943\n",
       "43   Roach   150.0     20.4     22.0     24.7  5.8045  3.7544\n",
       "44   Roach   145.0     20.5     22.0     24.3  6.6339  3.5478\n",
       "45   Roach   160.0     20.5     22.5     25.3  7.0334  3.8203\n",
       "46   Roach   140.0     21.0     22.5     25.0  6.5500  3.3250\n",
       "47   Roach   160.0     21.1     22.5     25.0  6.4000  3.8000\n",
       "48   Roach   169.0     22.0     24.0     27.2  7.5344  3.8352\n",
       "49   Roach   161.0     22.0     23.4     26.7  6.9153  3.6312\n",
       "50   Roach   200.0     22.1     23.5     26.8  7.3968  4.1272\n",
       "51   Roach   180.0     23.6     25.2     27.9  7.0866  3.9060\n",
       "52   Roach   290.0     24.0     26.0     29.2  8.8768  4.4968\n",
       "53   Roach   272.0     25.0     27.0     30.6  8.5680  4.7736\n",
       "54   Roach   390.0     29.5     31.7     35.0  9.4850  5.3550"
      ],
      "text/html": "<div>\n<style scoped>\n    .dataframe tbody tr th:only-of-type {\n        vertical-align: middle;\n    }\n\n    .dataframe tbody tr th {\n        vertical-align: top;\n    }\n\n    .dataframe thead th {\n        text-align: right;\n    }\n</style>\n<table border=\"1\" class=\"dataframe\">\n  <thead>\n    <tr style=\"text-align: right;\">\n      <th></th>\n      <th>Species</th>\n      <th>Weight</th>\n      <th>Length1</th>\n      <th>Length2</th>\n      <th>Length3</th>\n      <th>Height</th>\n      <th>Width</th>\n    </tr>\n  </thead>\n  <tbody>\n    <tr>\n      <th>35</th>\n      <td>Roach</td>\n      <td>40.0</td>\n      <td>12.9</td>\n      <td>14.1</td>\n      <td>16.2</td>\n      <td>4.1472</td>\n      <td>2.2680</td>\n    </tr>\n    <tr>\n      <th>36</th>\n      <td>Roach</td>\n      <td>69.0</td>\n      <td>16.5</td>\n      <td>18.2</td>\n      <td>20.3</td>\n      <td>5.2983</td>\n      <td>2.8217</td>\n    </tr>\n    <tr>\n      <th>37</th>\n      <td>Roach</td>\n      <td>78.0</td>\n      <td>17.5</td>\n      <td>18.8</td>\n      <td>21.2</td>\n      <td>5.5756</td>\n      <td>2.9044</td>\n    </tr>\n    <tr>\n      <th>38</th>\n      <td>Roach</td>\n      <td>87.0</td>\n      <td>18.2</td>\n      <td>19.8</td>\n      <td>22.2</td>\n      <td>5.6166</td>\n      <td>3.1746</td>\n    </tr>\n    <tr>\n      <th>39</th>\n      <td>Roach</td>\n      <td>120.0</td>\n      <td>18.6</td>\n      <td>20.0</td>\n      <td>22.2</td>\n      <td>6.2160</td>\n      <td>3.5742</td>\n    </tr>\n    <tr>\n      <th>40</th>\n      <td>Roach</td>\n      <td>0.0</td>\n      <td>19.0</td>\n      <td>20.5</td>\n      <td>22.8</td>\n      <td>6.4752</td>\n      <td>3.3516</td>\n    </tr>\n    <tr>\n      <th>41</th>\n      <td>Roach</td>\n      <td>110.0</td>\n      <td>19.1</td>\n      <td>20.8</td>\n      <td>23.1</td>\n      <td>6.1677</td>\n      <td>3.3957</td>\n    </tr>\n    <tr>\n      <th>42</th>\n      <td>Roach</td>\n      <td>120.0</td>\n      <td>19.4</td>\n      <td>21.0</td>\n      <td>23.7</td>\n      <td>6.1146</td>\n      <td>3.2943</td>\n    </tr>\n    <tr>\n      <th>43</th>\n      <td>Roach</td>\n      <td>150.0</td>\n      <td>20.4</td>\n      <td>22.0</td>\n      <td>24.7</td>\n      <td>5.8045</td>\n      <td>3.7544</td>\n    </tr>\n    <tr>\n      <th>44</th>\n      <td>Roach</td>\n      <td>145.0</td>\n      <td>20.5</td>\n      <td>22.0</td>\n      <td>24.3</td>\n      <td>6.6339</td>\n      <td>3.5478</td>\n    </tr>\n    <tr>\n      <th>45</th>\n      <td>Roach</td>\n      <td>160.0</td>\n      <td>20.5</td>\n      <td>22.5</td>\n      <td>25.3</td>\n      <td>7.0334</td>\n      <td>3.8203</td>\n    </tr>\n    <tr>\n      <th>46</th>\n      <td>Roach</td>\n      <td>140.0</td>\n      <td>21.0</td>\n      <td>22.5</td>\n      <td>25.0</td>\n      <td>6.5500</td>\n      <td>3.3250</td>\n    </tr>\n    <tr>\n      <th>47</th>\n      <td>Roach</td>\n      <td>160.0</td>\n      <td>21.1</td>\n      <td>22.5</td>\n      <td>25.0</td>\n      <td>6.4000</td>\n      <td>3.8000</td>\n    </tr>\n    <tr>\n      <th>48</th>\n      <td>Roach</td>\n      <td>169.0</td>\n      <td>22.0</td>\n      <td>24.0</td>\n      <td>27.2</td>\n      <td>7.5344</td>\n      <td>3.8352</td>\n    </tr>\n    <tr>\n      <th>49</th>\n      <td>Roach</td>\n      <td>161.0</td>\n      <td>22.0</td>\n      <td>23.4</td>\n      <td>26.7</td>\n      <td>6.9153</td>\n      <td>3.6312</td>\n    </tr>\n    <tr>\n      <th>50</th>\n      <td>Roach</td>\n      <td>200.0</td>\n      <td>22.1</td>\n      <td>23.5</td>\n      <td>26.8</td>\n      <td>7.3968</td>\n      <td>4.1272</td>\n    </tr>\n    <tr>\n      <th>51</th>\n      <td>Roach</td>\n      <td>180.0</td>\n      <td>23.6</td>\n      <td>25.2</td>\n      <td>27.9</td>\n      <td>7.0866</td>\n      <td>3.9060</td>\n    </tr>\n    <tr>\n      <th>52</th>\n      <td>Roach</td>\n      <td>290.0</td>\n      <td>24.0</td>\n      <td>26.0</td>\n      <td>29.2</td>\n      <td>8.8768</td>\n      <td>4.4968</td>\n    </tr>\n    <tr>\n      <th>53</th>\n      <td>Roach</td>\n      <td>272.0</td>\n      <td>25.0</td>\n      <td>27.0</td>\n      <td>30.6</td>\n      <td>8.5680</td>\n      <td>4.7736</td>\n    </tr>\n    <tr>\n      <th>54</th>\n      <td>Roach</td>\n      <td>390.0</td>\n      <td>29.5</td>\n      <td>31.7</td>\n      <td>35.0</td>\n      <td>9.4850</td>\n      <td>5.3550</td>\n    </tr>\n  </tbody>\n</table>\n</div>"
     },
     "metadata": {},
     "execution_count": 13
    }
   ],
   "source": [
    "#the problem seems to be in this particular roach row, so let's see the other roaches to find out what is abnormal. and i want to see what's the average roach weight, including the other parameters as well because of the other parameters will change the weight of a fish\n",
    "# \n",
    "roach = fishy[\"Species\"] == \"Roach\"\n",
    "roaches = fishy[roach]\n",
    "roaches"
   ]
  },
  {
   "cell_type": "code",
   "execution_count": 32,
   "metadata": {},
   "outputs": [
    {
     "output_type": "display_data",
     "data": {
      "text/plain": "<Figure size 864x720 with 2 Axes>",
      "image/svg+xml": "<?xml version=\"1.0\" encoding=\"utf-8\" standalone=\"no\"?>\r\n<!DOCTYPE svg PUBLIC \"-//W3C//DTD SVG 1.1//EN\"\r\n  \"http://www.w3.org/Graphics/SVG/1.1/DTD/svg11.dtd\">\r\n<!-- Created with matplotlib (https://matplotlib.org/) -->\r\n<svg height=\"578.477344pt\" version=\"1.1\" viewBox=\"0 0 665.063438 578.477344\" width=\"665.063438pt\" xmlns=\"http://www.w3.org/2000/svg\" xmlns:xlink=\"http://www.w3.org/1999/xlink\">\r\n <defs>\r\n  <style type=\"text/css\">\r\n*{stroke-linecap:butt;stroke-linejoin:round;}\r\n  </style>\r\n </defs>\r\n <g id=\"figure_1\">\r\n  <g id=\"patch_1\">\r\n   <path d=\"M 0 578.477344 \r\nL 665.063438 578.477344 \r\nL 665.063438 0 \r\nL 0 0 \r\nz\r\n\" style=\"fill:none;\"/>\r\n  </g>\r\n  <g id=\"axes_1\">\r\n   <g id=\"patch_2\">\r\n    <path d=\"M 23.878125 554.599219 \r\nL 559.558125 554.599219 \r\nL 559.558125 10.999219 \r\nL 23.878125 10.999219 \r\nz\r\n\" style=\"fill:#ffffff;\"/>\r\n   </g>\r\n   <g id=\"QuadMesh_1\">\r\n    <path clip-path=\"url(#p3db4e05a97)\" d=\"M 23.878125 10.999219 \r\nL 559.558125 10.999219 \r\nL 559.558125 101.599219 \r\nL 23.878125 101.599219 \r\nL 23.878125 10.999219 \r\n\" style=\"fill:#faebdd;\"/>\r\n    <path clip-path=\"url(#p3db4e05a97)\" d=\"M 23.878125 101.599219 \r\nL 559.558125 101.599219 \r\nL 559.558125 192.199219 \r\nL 23.878125 192.199219 \r\nL 23.878125 101.599219 \r\n\" style=\"fill:#f9ddc9;\"/>\r\n    <path clip-path=\"url(#p3db4e05a97)\" d=\"M 23.878125 192.199219 \r\nL 559.558125 192.199219 \r\nL 559.558125 282.799219 \r\nL 23.878125 282.799219 \r\nL 23.878125 192.199219 \r\n\" style=\"fill:#f8dcc7;\"/>\r\n    <path clip-path=\"url(#p3db4e05a97)\" d=\"M 23.878125 282.799219 \r\nL 559.558125 282.799219 \r\nL 559.558125 373.399219 \r\nL 23.878125 373.399219 \r\nL 23.878125 282.799219 \r\n\" style=\"fill:#f8dcc7;\"/>\r\n    <path clip-path=\"url(#p3db4e05a97)\" d=\"M 23.878125 373.399219 \r\nL 559.558125 373.399219 \r\nL 559.558125 463.999219 \r\nL 23.878125 463.999219 \r\nL 23.878125 373.399219 \r\n\" style=\"fill:#f8d6be;\"/>\r\n    <path clip-path=\"url(#p3db4e05a97)\" d=\"M 23.878125 463.999219 \r\nL 559.558125 463.999219 \r\nL 559.558125 554.599219 \r\nL 23.878125 554.599219 \r\nL 23.878125 463.999219 \r\n\" style=\"fill:#f6b691;\"/>\r\n   </g>\r\n   <g id=\"matplotlib.axis_1\">\r\n    <g id=\"xtick_1\">\r\n     <g id=\"line2d_1\">\r\n      <defs>\r\n       <path d=\"M 0 0 \r\nL 0 3.5 \r\n\" id=\"m40829d02cd\" style=\"stroke:#000000;stroke-width:0.8;\"/>\r\n      </defs>\r\n      <g>\r\n       <use style=\"stroke:#000000;stroke-width:0.8;\" x=\"291.718125\" xlink:href=\"#m40829d02cd\" y=\"554.599219\"/>\r\n      </g>\r\n     </g>\r\n     <g id=\"text_1\">\r\n      <!-- Weight -->\r\n      <defs>\r\n       <path d=\"M 3.328125 72.90625 \r\nL 13.28125 72.90625 \r\nL 28.609375 11.28125 \r\nL 43.890625 72.90625 \r\nL 54.984375 72.90625 \r\nL 70.3125 11.28125 \r\nL 85.59375 72.90625 \r\nL 95.609375 72.90625 \r\nL 77.296875 0 \r\nL 64.890625 0 \r\nL 49.515625 63.28125 \r\nL 33.984375 0 \r\nL 21.578125 0 \r\nz\r\n\" id=\"DejaVuSans-87\"/>\r\n       <path d=\"M 56.203125 29.59375 \r\nL 56.203125 25.203125 \r\nL 14.890625 25.203125 \r\nQ 15.484375 15.921875 20.484375 11.0625 \r\nQ 25.484375 6.203125 34.421875 6.203125 \r\nQ 39.59375 6.203125 44.453125 7.46875 \r\nQ 49.3125 8.734375 54.109375 11.28125 \r\nL 54.109375 2.78125 \r\nQ 49.265625 0.734375 44.1875 -0.34375 \r\nQ 39.109375 -1.421875 33.890625 -1.421875 \r\nQ 20.796875 -1.421875 13.15625 6.1875 \r\nQ 5.515625 13.8125 5.515625 26.8125 \r\nQ 5.515625 40.234375 12.765625 48.109375 \r\nQ 20.015625 56 32.328125 56 \r\nQ 43.359375 56 49.78125 48.890625 \r\nQ 56.203125 41.796875 56.203125 29.59375 \r\nz\r\nM 47.21875 32.234375 \r\nQ 47.125 39.59375 43.09375 43.984375 \r\nQ 39.0625 48.390625 32.421875 48.390625 \r\nQ 24.90625 48.390625 20.390625 44.140625 \r\nQ 15.875 39.890625 15.1875 32.171875 \r\nz\r\n\" id=\"DejaVuSans-101\"/>\r\n       <path d=\"M 9.421875 54.6875 \r\nL 18.40625 54.6875 \r\nL 18.40625 0 \r\nL 9.421875 0 \r\nz\r\nM 9.421875 75.984375 \r\nL 18.40625 75.984375 \r\nL 18.40625 64.59375 \r\nL 9.421875 64.59375 \r\nz\r\n\" id=\"DejaVuSans-105\"/>\r\n       <path d=\"M 45.40625 27.984375 \r\nQ 45.40625 37.75 41.375 43.109375 \r\nQ 37.359375 48.484375 30.078125 48.484375 \r\nQ 22.859375 48.484375 18.828125 43.109375 \r\nQ 14.796875 37.75 14.796875 27.984375 \r\nQ 14.796875 18.265625 18.828125 12.890625 \r\nQ 22.859375 7.515625 30.078125 7.515625 \r\nQ 37.359375 7.515625 41.375 12.890625 \r\nQ 45.40625 18.265625 45.40625 27.984375 \r\nz\r\nM 54.390625 6.78125 \r\nQ 54.390625 -7.171875 48.1875 -13.984375 \r\nQ 42 -20.796875 29.203125 -20.796875 \r\nQ 24.46875 -20.796875 20.265625 -20.09375 \r\nQ 16.0625 -19.390625 12.109375 -17.921875 \r\nL 12.109375 -9.1875 \r\nQ 16.0625 -11.328125 19.921875 -12.34375 \r\nQ 23.78125 -13.375 27.78125 -13.375 \r\nQ 36.625 -13.375 41.015625 -8.765625 \r\nQ 45.40625 -4.15625 45.40625 5.171875 \r\nL 45.40625 9.625 \r\nQ 42.625 4.78125 38.28125 2.390625 \r\nQ 33.9375 0 27.875 0 \r\nQ 17.828125 0 11.671875 7.65625 \r\nQ 5.515625 15.328125 5.515625 27.984375 \r\nQ 5.515625 40.671875 11.671875 48.328125 \r\nQ 17.828125 56 27.875 56 \r\nQ 33.9375 56 38.28125 53.609375 \r\nQ 42.625 51.21875 45.40625 46.390625 \r\nL 45.40625 54.6875 \r\nL 54.390625 54.6875 \r\nz\r\n\" id=\"DejaVuSans-103\"/>\r\n       <path d=\"M 54.890625 33.015625 \r\nL 54.890625 0 \r\nL 45.90625 0 \r\nL 45.90625 32.71875 \r\nQ 45.90625 40.484375 42.875 44.328125 \r\nQ 39.84375 48.1875 33.796875 48.1875 \r\nQ 26.515625 48.1875 22.3125 43.546875 \r\nQ 18.109375 38.921875 18.109375 30.90625 \r\nL 18.109375 0 \r\nL 9.078125 0 \r\nL 9.078125 75.984375 \r\nL 18.109375 75.984375 \r\nL 18.109375 46.1875 \r\nQ 21.34375 51.125 25.703125 53.5625 \r\nQ 30.078125 56 35.796875 56 \r\nQ 45.21875 56 50.046875 50.171875 \r\nQ 54.890625 44.34375 54.890625 33.015625 \r\nz\r\n\" id=\"DejaVuSans-104\"/>\r\n       <path d=\"M 18.3125 70.21875 \r\nL 18.3125 54.6875 \r\nL 36.8125 54.6875 \r\nL 36.8125 47.703125 \r\nL 18.3125 47.703125 \r\nL 18.3125 18.015625 \r\nQ 18.3125 11.328125 20.140625 9.421875 \r\nQ 21.96875 7.515625 27.59375 7.515625 \r\nL 36.8125 7.515625 \r\nL 36.8125 0 \r\nL 27.59375 0 \r\nQ 17.1875 0 13.234375 3.875 \r\nQ 9.28125 7.765625 9.28125 18.015625 \r\nL 9.28125 47.703125 \r\nL 2.6875 47.703125 \r\nL 2.6875 54.6875 \r\nL 9.28125 54.6875 \r\nL 9.28125 70.21875 \r\nz\r\n\" id=\"DejaVuSans-116\"/>\r\n      </defs>\r\n      <g transform=\"translate(274.009531 569.197656)scale(0.1 -0.1)\">\r\n       <use xlink:href=\"#DejaVuSans-87\"/>\r\n       <use x=\"98.798828\" xlink:href=\"#DejaVuSans-101\"/>\r\n       <use x=\"160.322266\" xlink:href=\"#DejaVuSans-105\"/>\r\n       <use x=\"188.105469\" xlink:href=\"#DejaVuSans-103\"/>\r\n       <use x=\"251.582031\" xlink:href=\"#DejaVuSans-104\"/>\r\n       <use x=\"314.960938\" xlink:href=\"#DejaVuSans-116\"/>\r\n      </g>\r\n     </g>\r\n    </g>\r\n   </g>\r\n   <g id=\"matplotlib.axis_2\">\r\n    <g id=\"ytick_1\">\r\n     <g id=\"line2d_2\">\r\n      <defs>\r\n       <path d=\"M 0 0 \r\nL -3.5 0 \r\n\" id=\"m0459c1f1b6\" style=\"stroke:#000000;stroke-width:0.8;\"/>\r\n      </defs>\r\n      <g>\r\n       <use style=\"stroke:#000000;stroke-width:0.8;\" x=\"23.878125\" xlink:href=\"#m0459c1f1b6\" y=\"56.299219\"/>\r\n      </g>\r\n     </g>\r\n     <g id=\"text_2\">\r\n      <!-- Weight -->\r\n      <g transform=\"translate(14.798438 87.917188)rotate(-90)scale(0.1 -0.1)\">\r\n       <use xlink:href=\"#DejaVuSans-87\"/>\r\n       <use x=\"98.798828\" xlink:href=\"#DejaVuSans-101\"/>\r\n       <use x=\"160.322266\" xlink:href=\"#DejaVuSans-105\"/>\r\n       <use x=\"188.105469\" xlink:href=\"#DejaVuSans-103\"/>\r\n       <use x=\"251.582031\" xlink:href=\"#DejaVuSans-104\"/>\r\n       <use x=\"314.960938\" xlink:href=\"#DejaVuSans-116\"/>\r\n      </g>\r\n     </g>\r\n    </g>\r\n    <g id=\"ytick_2\">\r\n     <g id=\"line2d_3\">\r\n      <g>\r\n       <use style=\"stroke:#000000;stroke-width:0.8;\" x=\"23.878125\" xlink:href=\"#m0459c1f1b6\" y=\"146.899219\"/>\r\n      </g>\r\n     </g>\r\n     <g id=\"text_3\">\r\n      <!-- Length3 -->\r\n      <defs>\r\n       <path d=\"M 9.8125 72.90625 \r\nL 19.671875 72.90625 \r\nL 19.671875 8.296875 \r\nL 55.171875 8.296875 \r\nL 55.171875 0 \r\nL 9.8125 0 \r\nz\r\n\" id=\"DejaVuSans-76\"/>\r\n       <path d=\"M 54.890625 33.015625 \r\nL 54.890625 0 \r\nL 45.90625 0 \r\nL 45.90625 32.71875 \r\nQ 45.90625 40.484375 42.875 44.328125 \r\nQ 39.84375 48.1875 33.796875 48.1875 \r\nQ 26.515625 48.1875 22.3125 43.546875 \r\nQ 18.109375 38.921875 18.109375 30.90625 \r\nL 18.109375 0 \r\nL 9.078125 0 \r\nL 9.078125 54.6875 \r\nL 18.109375 54.6875 \r\nL 18.109375 46.1875 \r\nQ 21.34375 51.125 25.703125 53.5625 \r\nQ 30.078125 56 35.796875 56 \r\nQ 45.21875 56 50.046875 50.171875 \r\nQ 54.890625 44.34375 54.890625 33.015625 \r\nz\r\n\" id=\"DejaVuSans-110\"/>\r\n       <path d=\"M 40.578125 39.3125 \r\nQ 47.65625 37.796875 51.625 33 \r\nQ 55.609375 28.21875 55.609375 21.1875 \r\nQ 55.609375 10.40625 48.1875 4.484375 \r\nQ 40.765625 -1.421875 27.09375 -1.421875 \r\nQ 22.515625 -1.421875 17.65625 -0.515625 \r\nQ 12.796875 0.390625 7.625 2.203125 \r\nL 7.625 11.71875 \r\nQ 11.71875 9.328125 16.59375 8.109375 \r\nQ 21.484375 6.890625 26.8125 6.890625 \r\nQ 36.078125 6.890625 40.9375 10.546875 \r\nQ 45.796875 14.203125 45.796875 21.1875 \r\nQ 45.796875 27.640625 41.28125 31.265625 \r\nQ 36.765625 34.90625 28.71875 34.90625 \r\nL 20.21875 34.90625 \r\nL 20.21875 43.015625 \r\nL 29.109375 43.015625 \r\nQ 36.375 43.015625 40.234375 45.921875 \r\nQ 44.09375 48.828125 44.09375 54.296875 \r\nQ 44.09375 59.90625 40.109375 62.90625 \r\nQ 36.140625 65.921875 28.71875 65.921875 \r\nQ 24.65625 65.921875 20.015625 65.03125 \r\nQ 15.375 64.15625 9.8125 62.3125 \r\nL 9.8125 71.09375 \r\nQ 15.4375 72.65625 20.34375 73.4375 \r\nQ 25.25 74.21875 29.59375 74.21875 \r\nQ 40.828125 74.21875 47.359375 69.109375 \r\nQ 53.90625 64.015625 53.90625 55.328125 \r\nQ 53.90625 49.265625 50.4375 45.09375 \r\nQ 46.96875 40.921875 40.578125 39.3125 \r\nz\r\n\" id=\"DejaVuSans-51\"/>\r\n      </defs>\r\n      <g transform=\"translate(14.798438 184.129688)rotate(-90)scale(0.1 -0.1)\">\r\n       <use xlink:href=\"#DejaVuSans-76\"/>\r\n       <use x=\"55.697266\" xlink:href=\"#DejaVuSans-101\"/>\r\n       <use x=\"117.220703\" xlink:href=\"#DejaVuSans-110\"/>\r\n       <use x=\"180.599609\" xlink:href=\"#DejaVuSans-103\"/>\r\n       <use x=\"244.076172\" xlink:href=\"#DejaVuSans-116\"/>\r\n       <use x=\"283.285156\" xlink:href=\"#DejaVuSans-104\"/>\r\n       <use x=\"346.664062\" xlink:href=\"#DejaVuSans-51\"/>\r\n      </g>\r\n     </g>\r\n    </g>\r\n    <g id=\"ytick_3\">\r\n     <g id=\"line2d_4\">\r\n      <g>\r\n       <use style=\"stroke:#000000;stroke-width:0.8;\" x=\"23.878125\" xlink:href=\"#m0459c1f1b6\" y=\"237.499219\"/>\r\n      </g>\r\n     </g>\r\n     <g id=\"text_4\">\r\n      <!-- Length2 -->\r\n      <defs>\r\n       <path d=\"M 19.1875 8.296875 \r\nL 53.609375 8.296875 \r\nL 53.609375 0 \r\nL 7.328125 0 \r\nL 7.328125 8.296875 \r\nQ 12.9375 14.109375 22.625 23.890625 \r\nQ 32.328125 33.6875 34.8125 36.53125 \r\nQ 39.546875 41.84375 41.421875 45.53125 \r\nQ 43.3125 49.21875 43.3125 52.78125 \r\nQ 43.3125 58.59375 39.234375 62.25 \r\nQ 35.15625 65.921875 28.609375 65.921875 \r\nQ 23.96875 65.921875 18.8125 64.3125 \r\nQ 13.671875 62.703125 7.8125 59.421875 \r\nL 7.8125 69.390625 \r\nQ 13.765625 71.78125 18.9375 73 \r\nQ 24.125 74.21875 28.421875 74.21875 \r\nQ 39.75 74.21875 46.484375 68.546875 \r\nQ 53.21875 62.890625 53.21875 53.421875 \r\nQ 53.21875 48.921875 51.53125 44.890625 \r\nQ 49.859375 40.875 45.40625 35.40625 \r\nQ 44.1875 33.984375 37.640625 27.21875 \r\nQ 31.109375 20.453125 19.1875 8.296875 \r\nz\r\n\" id=\"DejaVuSans-50\"/>\r\n      </defs>\r\n      <g transform=\"translate(14.798438 274.729688)rotate(-90)scale(0.1 -0.1)\">\r\n       <use xlink:href=\"#DejaVuSans-76\"/>\r\n       <use x=\"55.697266\" xlink:href=\"#DejaVuSans-101\"/>\r\n       <use x=\"117.220703\" xlink:href=\"#DejaVuSans-110\"/>\r\n       <use x=\"180.599609\" xlink:href=\"#DejaVuSans-103\"/>\r\n       <use x=\"244.076172\" xlink:href=\"#DejaVuSans-116\"/>\r\n       <use x=\"283.285156\" xlink:href=\"#DejaVuSans-104\"/>\r\n       <use x=\"346.664062\" xlink:href=\"#DejaVuSans-50\"/>\r\n      </g>\r\n     </g>\r\n    </g>\r\n    <g id=\"ytick_4\">\r\n     <g id=\"line2d_5\">\r\n      <g>\r\n       <use style=\"stroke:#000000;stroke-width:0.8;\" x=\"23.878125\" xlink:href=\"#m0459c1f1b6\" y=\"328.099219\"/>\r\n      </g>\r\n     </g>\r\n     <g id=\"text_5\">\r\n      <!-- Length1 -->\r\n      <defs>\r\n       <path d=\"M 12.40625 8.296875 \r\nL 28.515625 8.296875 \r\nL 28.515625 63.921875 \r\nL 10.984375 60.40625 \r\nL 10.984375 69.390625 \r\nL 28.421875 72.90625 \r\nL 38.28125 72.90625 \r\nL 38.28125 8.296875 \r\nL 54.390625 8.296875 \r\nL 54.390625 0 \r\nL 12.40625 0 \r\nz\r\n\" id=\"DejaVuSans-49\"/>\r\n      </defs>\r\n      <g transform=\"translate(14.798438 365.329688)rotate(-90)scale(0.1 -0.1)\">\r\n       <use xlink:href=\"#DejaVuSans-76\"/>\r\n       <use x=\"55.697266\" xlink:href=\"#DejaVuSans-101\"/>\r\n       <use x=\"117.220703\" xlink:href=\"#DejaVuSans-110\"/>\r\n       <use x=\"180.599609\" xlink:href=\"#DejaVuSans-103\"/>\r\n       <use x=\"244.076172\" xlink:href=\"#DejaVuSans-116\"/>\r\n       <use x=\"283.285156\" xlink:href=\"#DejaVuSans-104\"/>\r\n       <use x=\"346.664062\" xlink:href=\"#DejaVuSans-49\"/>\r\n      </g>\r\n     </g>\r\n    </g>\r\n    <g id=\"ytick_5\">\r\n     <g id=\"line2d_6\">\r\n      <g>\r\n       <use style=\"stroke:#000000;stroke-width:0.8;\" x=\"23.878125\" xlink:href=\"#m0459c1f1b6\" y=\"418.699219\"/>\r\n      </g>\r\n     </g>\r\n     <g id=\"text_6\">\r\n      <!-- Width -->\r\n      <defs>\r\n       <path d=\"M 45.40625 46.390625 \r\nL 45.40625 75.984375 \r\nL 54.390625 75.984375 \r\nL 54.390625 0 \r\nL 45.40625 0 \r\nL 45.40625 8.203125 \r\nQ 42.578125 3.328125 38.25 0.953125 \r\nQ 33.9375 -1.421875 27.875 -1.421875 \r\nQ 17.96875 -1.421875 11.734375 6.484375 \r\nQ 5.515625 14.40625 5.515625 27.296875 \r\nQ 5.515625 40.1875 11.734375 48.09375 \r\nQ 17.96875 56 27.875 56 \r\nQ 33.9375 56 38.25 53.625 \r\nQ 42.578125 51.265625 45.40625 46.390625 \r\nz\r\nM 14.796875 27.296875 \r\nQ 14.796875 17.390625 18.875 11.75 \r\nQ 22.953125 6.109375 30.078125 6.109375 \r\nQ 37.203125 6.109375 41.296875 11.75 \r\nQ 45.40625 17.390625 45.40625 27.296875 \r\nQ 45.40625 37.203125 41.296875 42.84375 \r\nQ 37.203125 48.484375 30.078125 48.484375 \r\nQ 22.953125 48.484375 18.875 42.84375 \r\nQ 14.796875 37.203125 14.796875 27.296875 \r\nz\r\n\" id=\"DejaVuSans-100\"/>\r\n      </defs>\r\n      <g transform=\"translate(14.798438 444.16875)rotate(-90)scale(0.1 -0.1)\">\r\n       <use xlink:href=\"#DejaVuSans-87\"/>\r\n       <use x=\"98.845703\" xlink:href=\"#DejaVuSans-105\"/>\r\n       <use x=\"126.628906\" xlink:href=\"#DejaVuSans-100\"/>\r\n       <use x=\"190.105469\" xlink:href=\"#DejaVuSans-116\"/>\r\n       <use x=\"229.314453\" xlink:href=\"#DejaVuSans-104\"/>\r\n      </g>\r\n     </g>\r\n    </g>\r\n    <g id=\"ytick_6\">\r\n     <g id=\"line2d_7\">\r\n      <g>\r\n       <use style=\"stroke:#000000;stroke-width:0.8;\" x=\"23.878125\" xlink:href=\"#m0459c1f1b6\" y=\"509.299219\"/>\r\n      </g>\r\n     </g>\r\n     <g id=\"text_7\">\r\n      <!-- Height -->\r\n      <defs>\r\n       <path d=\"M 9.8125 72.90625 \r\nL 19.671875 72.90625 \r\nL 19.671875 43.015625 \r\nL 55.515625 43.015625 \r\nL 55.515625 72.90625 \r\nL 65.375 72.90625 \r\nL 65.375 0 \r\nL 55.515625 0 \r\nL 55.515625 34.71875 \r\nL 19.671875 34.71875 \r\nL 19.671875 0 \r\nL 9.8125 0 \r\nz\r\n\" id=\"DejaVuSans-72\"/>\r\n      </defs>\r\n      <g transform=\"translate(14.798438 538.557813)rotate(-90)scale(0.1 -0.1)\">\r\n       <use xlink:href=\"#DejaVuSans-72\"/>\r\n       <use x=\"75.195312\" xlink:href=\"#DejaVuSans-101\"/>\r\n       <use x=\"136.71875\" xlink:href=\"#DejaVuSans-105\"/>\r\n       <use x=\"164.501953\" xlink:href=\"#DejaVuSans-103\"/>\r\n       <use x=\"227.978516\" xlink:href=\"#DejaVuSans-104\"/>\r\n       <use x=\"291.357422\" xlink:href=\"#DejaVuSans-116\"/>\r\n      </g>\r\n     </g>\r\n    </g>\r\n   </g>\r\n   <g id=\"text_8\">\r\n    <!-- 1 -->\r\n    <g style=\"fill:#262626;\" transform=\"translate(288.536875 59.058594)scale(0.1 -0.1)\">\r\n     <use xlink:href=\"#DejaVuSans-49\"/>\r\n    </g>\r\n   </g>\r\n   <g id=\"text_9\">\r\n    <!-- 0.92 -->\r\n    <defs>\r\n     <path d=\"M 31.78125 66.40625 \r\nQ 24.171875 66.40625 20.328125 58.90625 \r\nQ 16.5 51.421875 16.5 36.375 \r\nQ 16.5 21.390625 20.328125 13.890625 \r\nQ 24.171875 6.390625 31.78125 6.390625 \r\nQ 39.453125 6.390625 43.28125 13.890625 \r\nQ 47.125 21.390625 47.125 36.375 \r\nQ 47.125 51.421875 43.28125 58.90625 \r\nQ 39.453125 66.40625 31.78125 66.40625 \r\nz\r\nM 31.78125 74.21875 \r\nQ 44.046875 74.21875 50.515625 64.515625 \r\nQ 56.984375 54.828125 56.984375 36.375 \r\nQ 56.984375 17.96875 50.515625 8.265625 \r\nQ 44.046875 -1.421875 31.78125 -1.421875 \r\nQ 19.53125 -1.421875 13.0625 8.265625 \r\nQ 6.59375 17.96875 6.59375 36.375 \r\nQ 6.59375 54.828125 13.0625 64.515625 \r\nQ 19.53125 74.21875 31.78125 74.21875 \r\nz\r\n\" id=\"DejaVuSans-48\"/>\r\n     <path d=\"M 10.6875 12.40625 \r\nL 21 12.40625 \r\nL 21 0 \r\nL 10.6875 0 \r\nz\r\n\" id=\"DejaVuSans-46\"/>\r\n     <path d=\"M 10.984375 1.515625 \r\nL 10.984375 10.5 \r\nQ 14.703125 8.734375 18.5 7.8125 \r\nQ 22.3125 6.890625 25.984375 6.890625 \r\nQ 35.75 6.890625 40.890625 13.453125 \r\nQ 46.046875 20.015625 46.78125 33.40625 \r\nQ 43.953125 29.203125 39.59375 26.953125 \r\nQ 35.25 24.703125 29.984375 24.703125 \r\nQ 19.046875 24.703125 12.671875 31.3125 \r\nQ 6.296875 37.9375 6.296875 49.421875 \r\nQ 6.296875 60.640625 12.9375 67.421875 \r\nQ 19.578125 74.21875 30.609375 74.21875 \r\nQ 43.265625 74.21875 49.921875 64.515625 \r\nQ 56.59375 54.828125 56.59375 36.375 \r\nQ 56.59375 19.140625 48.40625 8.859375 \r\nQ 40.234375 -1.421875 26.421875 -1.421875 \r\nQ 22.703125 -1.421875 18.890625 -0.6875 \r\nQ 15.09375 0.046875 10.984375 1.515625 \r\nz\r\nM 30.609375 32.421875 \r\nQ 37.25 32.421875 41.125 36.953125 \r\nQ 45.015625 41.5 45.015625 49.421875 \r\nQ 45.015625 57.28125 41.125 61.84375 \r\nQ 37.25 66.40625 30.609375 66.40625 \r\nQ 23.96875 66.40625 20.09375 61.84375 \r\nQ 16.21875 57.28125 16.21875 49.421875 \r\nQ 16.21875 41.5 20.09375 36.953125 \r\nQ 23.96875 32.421875 30.609375 32.421875 \r\nz\r\n\" id=\"DejaVuSans-57\"/>\r\n    </defs>\r\n    <g style=\"fill:#262626;\" transform=\"translate(280.585313 149.658594)scale(0.1 -0.1)\">\r\n     <use xlink:href=\"#DejaVuSans-48\"/>\r\n     <use x=\"63.623047\" xlink:href=\"#DejaVuSans-46\"/>\r\n     <use x=\"95.410156\" xlink:href=\"#DejaVuSans-57\"/>\r\n     <use x=\"159.033203\" xlink:href=\"#DejaVuSans-50\"/>\r\n    </g>\r\n   </g>\r\n   <g id=\"text_10\">\r\n    <!-- 0.92 -->\r\n    <g style=\"fill:#262626;\" transform=\"translate(280.585313 240.258594)scale(0.1 -0.1)\">\r\n     <use xlink:href=\"#DejaVuSans-48\"/>\r\n     <use x=\"63.623047\" xlink:href=\"#DejaVuSans-46\"/>\r\n     <use x=\"95.410156\" xlink:href=\"#DejaVuSans-57\"/>\r\n     <use x=\"159.033203\" xlink:href=\"#DejaVuSans-50\"/>\r\n    </g>\r\n   </g>\r\n   <g id=\"text_11\">\r\n    <!-- 0.92 -->\r\n    <g style=\"fill:#262626;\" transform=\"translate(280.585313 330.858594)scale(0.1 -0.1)\">\r\n     <use xlink:href=\"#DejaVuSans-48\"/>\r\n     <use x=\"63.623047\" xlink:href=\"#DejaVuSans-46\"/>\r\n     <use x=\"95.410156\" xlink:href=\"#DejaVuSans-57\"/>\r\n     <use x=\"159.033203\" xlink:href=\"#DejaVuSans-50\"/>\r\n    </g>\r\n   </g>\r\n   <g id=\"text_12\">\r\n    <!-- 0.89 -->\r\n    <defs>\r\n     <path d=\"M 31.78125 34.625 \r\nQ 24.75 34.625 20.71875 30.859375 \r\nQ 16.703125 27.09375 16.703125 20.515625 \r\nQ 16.703125 13.921875 20.71875 10.15625 \r\nQ 24.75 6.390625 31.78125 6.390625 \r\nQ 38.8125 6.390625 42.859375 10.171875 \r\nQ 46.921875 13.96875 46.921875 20.515625 \r\nQ 46.921875 27.09375 42.890625 30.859375 \r\nQ 38.875 34.625 31.78125 34.625 \r\nz\r\nM 21.921875 38.8125 \r\nQ 15.578125 40.375 12.03125 44.71875 \r\nQ 8.5 49.078125 8.5 55.328125 \r\nQ 8.5 64.0625 14.71875 69.140625 \r\nQ 20.953125 74.21875 31.78125 74.21875 \r\nQ 42.671875 74.21875 48.875 69.140625 \r\nQ 55.078125 64.0625 55.078125 55.328125 \r\nQ 55.078125 49.078125 51.53125 44.71875 \r\nQ 48 40.375 41.703125 38.8125 \r\nQ 48.828125 37.15625 52.796875 32.3125 \r\nQ 56.78125 27.484375 56.78125 20.515625 \r\nQ 56.78125 9.90625 50.3125 4.234375 \r\nQ 43.84375 -1.421875 31.78125 -1.421875 \r\nQ 19.734375 -1.421875 13.25 4.234375 \r\nQ 6.78125 9.90625 6.78125 20.515625 \r\nQ 6.78125 27.484375 10.78125 32.3125 \r\nQ 14.796875 37.15625 21.921875 38.8125 \r\nz\r\nM 18.3125 54.390625 \r\nQ 18.3125 48.734375 21.84375 45.5625 \r\nQ 25.390625 42.390625 31.78125 42.390625 \r\nQ 38.140625 42.390625 41.71875 45.5625 \r\nQ 45.3125 48.734375 45.3125 54.390625 \r\nQ 45.3125 60.0625 41.71875 63.234375 \r\nQ 38.140625 66.40625 31.78125 66.40625 \r\nQ 25.390625 66.40625 21.84375 63.234375 \r\nQ 18.3125 60.0625 18.3125 54.390625 \r\nz\r\n\" id=\"DejaVuSans-56\"/>\r\n    </defs>\r\n    <g style=\"fill:#262626;\" transform=\"translate(280.585313 421.458594)scale(0.1 -0.1)\">\r\n     <use xlink:href=\"#DejaVuSans-48\"/>\r\n     <use x=\"63.623047\" xlink:href=\"#DejaVuSans-46\"/>\r\n     <use x=\"95.410156\" xlink:href=\"#DejaVuSans-56\"/>\r\n     <use x=\"159.033203\" xlink:href=\"#DejaVuSans-57\"/>\r\n    </g>\r\n   </g>\r\n   <g id=\"text_13\">\r\n    <!-- 0.72 -->\r\n    <defs>\r\n     <path d=\"M 8.203125 72.90625 \r\nL 55.078125 72.90625 \r\nL 55.078125 68.703125 \r\nL 28.609375 0 \r\nL 18.3125 0 \r\nL 43.21875 64.59375 \r\nL 8.203125 64.59375 \r\nz\r\n\" id=\"DejaVuSans-55\"/>\r\n    </defs>\r\n    <g style=\"fill:#262626;\" transform=\"translate(280.585313 512.058594)scale(0.1 -0.1)\">\r\n     <use xlink:href=\"#DejaVuSans-48\"/>\r\n     <use x=\"63.623047\" xlink:href=\"#DejaVuSans-46\"/>\r\n     <use x=\"95.410156\" xlink:href=\"#DejaVuSans-55\"/>\r\n     <use x=\"159.033203\" xlink:href=\"#DejaVuSans-50\"/>\r\n    </g>\r\n   </g>\r\n  </g>\r\n  <g id=\"axes_2\">\r\n   <g id=\"patch_3\">\r\n    <path clip-path=\"url(#p06efba3dde)\" d=\"M 593.038125 554.599219 \r\nL 593.038125 552.475781 \r\nL 593.038125 13.122656 \r\nL 593.038125 10.999219 \r\nL 620.218125 10.999219 \r\nL 620.218125 13.122656 \r\nL 620.218125 552.475781 \r\nL 620.218125 554.599219 \r\nz\r\n\" style=\"fill:#ffffff;stroke:#ffffff;stroke-linejoin:miter;stroke-width:0.01;\"/>\r\n   </g>\r\n   <image height=\"543\" id=\"image100670bb24\" transform=\"scale(1 -1)translate(0 -543)\" width=\"27\" x=\"593\" xlink:href=\"data:image/png;base64,\r\niVBORw0KGgoAAAANSUhEUgAAABsAAAIfCAYAAACB2qdqAAAABHNCSVQICAgIfAhkiAAAAoFJREFUeJztnYFt2EAMxP4dd4nuv2eyBHGACXIBQT1K+rpFcn/+/f89I55VoXPOee+w2Lizu+utzhDee7SdaTN7tJ15bRRnZu1sLIhWfa0gDTVCc4YgzqxnAYH4eHrVb10RlBnCe++uXicGwXtivJklCIJXkDJDKDMEc2bazrTP7wRB8ArSukLIRgRxZt7OtP+HpxcxQicGoRODYM5M29myWnP2vWINNUJDjWC20bquxDaaN4i0s9RHSH2EPichiL/wtEEIyux7xRIEoeOJYD6e2sy8c9ZuJFAfzx2tKwSv+tmIkI0I2YggPp7P7GdCNdQQ6qHe0bpCyEaEtj6C18bURzB31lADZCOCuLOrnTNtZv0xInRiELIRIRsR1jbuQsvG7xUTryvxUP9qh3pYLBsROjEIaxulmbWuEMSdadUvM4SOJ8L7DF882fi9YuZ1Nfwni/VQWzsT//3Mm5m2M3Nmu2Li45n6BKmPkI0I48yGXzebMwRvZq0rBPW62hXLRgTvuurEINTZ94qlPkLHE0F9PHfFmjMEcWbHOmcJglBnCOOh1nZWZgRlhuDNbC2I9We6aAUpM4R1Z9bMspEgGxG8NiYIgrgz768k82Zm7mxXr8wQOp4IYkHO8HtSmSGIO7udGIA2CII3s96NCF5BGmqEjieCOLPmjKDjibBWXyqIOTNxZ1obxSfG2lmfbQlSH6HOEHrwILRBEMyZWTtrXSF4BTF31iIGKDOEMkMwH0+vIN7OrOqXGUKZIZQZgvh43vszK5YgCObOWlcAZYbwnke7G62ZNdQIXkF68CBkI0KZIfQsQPBm1lAjvNcqiDgz7VC3iBGaMwTvbkwQBPVQSxfxH4szL/1vdzcNAAAAAElFTkSuQmCC\" y=\"-11\"/>\r\n   <g id=\"matplotlib.axis_3\"/>\r\n   <g id=\"matplotlib.axis_4\">\r\n    <g id=\"ytick_7\">\r\n     <g id=\"line2d_8\">\r\n      <defs>\r\n       <path d=\"M 0 0 \r\nL 3.5 0 \r\n\" id=\"m0609f6c7c2\" style=\"stroke:#000000;stroke-width:0.8;\"/>\r\n      </defs>\r\n      <g>\r\n       <use style=\"stroke:#000000;stroke-width:0.8;\" x=\"620.218125\" xlink:href=\"#m0609f6c7c2\" y=\"554.599219\"/>\r\n      </g>\r\n     </g>\r\n     <g id=\"text_14\">\r\n      <!-- −1.00 -->\r\n      <defs>\r\n       <path d=\"M 10.59375 35.5 \r\nL 73.1875 35.5 \r\nL 73.1875 27.203125 \r\nL 10.59375 27.203125 \r\nz\r\n\" id=\"DejaVuSans-8722\"/>\r\n      </defs>\r\n      <g transform=\"translate(627.218125 558.398438)scale(0.1 -0.1)\">\r\n       <use xlink:href=\"#DejaVuSans-8722\"/>\r\n       <use x=\"83.789062\" xlink:href=\"#DejaVuSans-49\"/>\r\n       <use x=\"147.412109\" xlink:href=\"#DejaVuSans-46\"/>\r\n       <use x=\"179.199219\" xlink:href=\"#DejaVuSans-48\"/>\r\n       <use x=\"242.822266\" xlink:href=\"#DejaVuSans-48\"/>\r\n      </g>\r\n     </g>\r\n    </g>\r\n    <g id=\"ytick_8\">\r\n     <g id=\"line2d_9\">\r\n      <g>\r\n       <use style=\"stroke:#000000;stroke-width:0.8;\" x=\"620.218125\" xlink:href=\"#m0609f6c7c2\" y=\"486.649219\"/>\r\n      </g>\r\n     </g>\r\n     <g id=\"text_15\">\r\n      <!-- −0.75 -->\r\n      <defs>\r\n       <path d=\"M 10.796875 72.90625 \r\nL 49.515625 72.90625 \r\nL 49.515625 64.59375 \r\nL 19.828125 64.59375 \r\nL 19.828125 46.734375 \r\nQ 21.96875 47.46875 24.109375 47.828125 \r\nQ 26.265625 48.1875 28.421875 48.1875 \r\nQ 40.625 48.1875 47.75 41.5 \r\nQ 54.890625 34.8125 54.890625 23.390625 \r\nQ 54.890625 11.625 47.5625 5.09375 \r\nQ 40.234375 -1.421875 26.90625 -1.421875 \r\nQ 22.3125 -1.421875 17.546875 -0.640625 \r\nQ 12.796875 0.140625 7.71875 1.703125 \r\nL 7.71875 11.625 \r\nQ 12.109375 9.234375 16.796875 8.0625 \r\nQ 21.484375 6.890625 26.703125 6.890625 \r\nQ 35.15625 6.890625 40.078125 11.328125 \r\nQ 45.015625 15.765625 45.015625 23.390625 \r\nQ 45.015625 31 40.078125 35.4375 \r\nQ 35.15625 39.890625 26.703125 39.890625 \r\nQ 22.75 39.890625 18.8125 39.015625 \r\nQ 14.890625 38.140625 10.796875 36.28125 \r\nz\r\n\" id=\"DejaVuSans-53\"/>\r\n      </defs>\r\n      <g transform=\"translate(627.218125 490.448437)scale(0.1 -0.1)\">\r\n       <use xlink:href=\"#DejaVuSans-8722\"/>\r\n       <use x=\"83.789062\" xlink:href=\"#DejaVuSans-48\"/>\r\n       <use x=\"147.412109\" xlink:href=\"#DejaVuSans-46\"/>\r\n       <use x=\"179.199219\" xlink:href=\"#DejaVuSans-55\"/>\r\n       <use x=\"242.822266\" xlink:href=\"#DejaVuSans-53\"/>\r\n      </g>\r\n     </g>\r\n    </g>\r\n    <g id=\"ytick_9\">\r\n     <g id=\"line2d_10\">\r\n      <g>\r\n       <use style=\"stroke:#000000;stroke-width:0.8;\" x=\"620.218125\" xlink:href=\"#m0609f6c7c2\" y=\"418.699219\"/>\r\n      </g>\r\n     </g>\r\n     <g id=\"text_16\">\r\n      <!-- −0.50 -->\r\n      <g transform=\"translate(627.218125 422.498438)scale(0.1 -0.1)\">\r\n       <use xlink:href=\"#DejaVuSans-8722\"/>\r\n       <use x=\"83.789062\" xlink:href=\"#DejaVuSans-48\"/>\r\n       <use x=\"147.412109\" xlink:href=\"#DejaVuSans-46\"/>\r\n       <use x=\"179.199219\" xlink:href=\"#DejaVuSans-53\"/>\r\n       <use x=\"242.822266\" xlink:href=\"#DejaVuSans-48\"/>\r\n      </g>\r\n     </g>\r\n    </g>\r\n    <g id=\"ytick_10\">\r\n     <g id=\"line2d_11\">\r\n      <g>\r\n       <use style=\"stroke:#000000;stroke-width:0.8;\" x=\"620.218125\" xlink:href=\"#m0609f6c7c2\" y=\"350.749219\"/>\r\n      </g>\r\n     </g>\r\n     <g id=\"text_17\">\r\n      <!-- −0.25 -->\r\n      <g transform=\"translate(627.218125 354.548437)scale(0.1 -0.1)\">\r\n       <use xlink:href=\"#DejaVuSans-8722\"/>\r\n       <use x=\"83.789062\" xlink:href=\"#DejaVuSans-48\"/>\r\n       <use x=\"147.412109\" xlink:href=\"#DejaVuSans-46\"/>\r\n       <use x=\"179.199219\" xlink:href=\"#DejaVuSans-50\"/>\r\n       <use x=\"242.822266\" xlink:href=\"#DejaVuSans-53\"/>\r\n      </g>\r\n     </g>\r\n    </g>\r\n    <g id=\"ytick_11\">\r\n     <g id=\"line2d_12\">\r\n      <g>\r\n       <use style=\"stroke:#000000;stroke-width:0.8;\" x=\"620.218125\" xlink:href=\"#m0609f6c7c2\" y=\"282.799219\"/>\r\n      </g>\r\n     </g>\r\n     <g id=\"text_18\">\r\n      <!-- 0.00 -->\r\n      <g transform=\"translate(627.218125 286.598438)scale(0.1 -0.1)\">\r\n       <use xlink:href=\"#DejaVuSans-48\"/>\r\n       <use x=\"63.623047\" xlink:href=\"#DejaVuSans-46\"/>\r\n       <use x=\"95.410156\" xlink:href=\"#DejaVuSans-48\"/>\r\n       <use x=\"159.033203\" xlink:href=\"#DejaVuSans-48\"/>\r\n      </g>\r\n     </g>\r\n    </g>\r\n    <g id=\"ytick_12\">\r\n     <g id=\"line2d_13\">\r\n      <g>\r\n       <use style=\"stroke:#000000;stroke-width:0.8;\" x=\"620.218125\" xlink:href=\"#m0609f6c7c2\" y=\"214.849219\"/>\r\n      </g>\r\n     </g>\r\n     <g id=\"text_19\">\r\n      <!-- 0.25 -->\r\n      <g transform=\"translate(627.218125 218.648438)scale(0.1 -0.1)\">\r\n       <use xlink:href=\"#DejaVuSans-48\"/>\r\n       <use x=\"63.623047\" xlink:href=\"#DejaVuSans-46\"/>\r\n       <use x=\"95.410156\" xlink:href=\"#DejaVuSans-50\"/>\r\n       <use x=\"159.033203\" xlink:href=\"#DejaVuSans-53\"/>\r\n      </g>\r\n     </g>\r\n    </g>\r\n    <g id=\"ytick_13\">\r\n     <g id=\"line2d_14\">\r\n      <g>\r\n       <use style=\"stroke:#000000;stroke-width:0.8;\" x=\"620.218125\" xlink:href=\"#m0609f6c7c2\" y=\"146.899219\"/>\r\n      </g>\r\n     </g>\r\n     <g id=\"text_20\">\r\n      <!-- 0.50 -->\r\n      <g transform=\"translate(627.218125 150.698438)scale(0.1 -0.1)\">\r\n       <use xlink:href=\"#DejaVuSans-48\"/>\r\n       <use x=\"63.623047\" xlink:href=\"#DejaVuSans-46\"/>\r\n       <use x=\"95.410156\" xlink:href=\"#DejaVuSans-53\"/>\r\n       <use x=\"159.033203\" xlink:href=\"#DejaVuSans-48\"/>\r\n      </g>\r\n     </g>\r\n    </g>\r\n    <g id=\"ytick_14\">\r\n     <g id=\"line2d_15\">\r\n      <g>\r\n       <use style=\"stroke:#000000;stroke-width:0.8;\" x=\"620.218125\" xlink:href=\"#m0609f6c7c2\" y=\"78.949219\"/>\r\n      </g>\r\n     </g>\r\n     <g id=\"text_21\">\r\n      <!-- 0.75 -->\r\n      <g transform=\"translate(627.218125 82.748438)scale(0.1 -0.1)\">\r\n       <use xlink:href=\"#DejaVuSans-48\"/>\r\n       <use x=\"63.623047\" xlink:href=\"#DejaVuSans-46\"/>\r\n       <use x=\"95.410156\" xlink:href=\"#DejaVuSans-55\"/>\r\n       <use x=\"159.033203\" xlink:href=\"#DejaVuSans-53\"/>\r\n      </g>\r\n     </g>\r\n    </g>\r\n    <g id=\"ytick_15\">\r\n     <g id=\"line2d_16\">\r\n      <g>\r\n       <use style=\"stroke:#000000;stroke-width:0.8;\" x=\"620.218125\" xlink:href=\"#m0609f6c7c2\" y=\"10.999219\"/>\r\n      </g>\r\n     </g>\r\n     <g id=\"text_22\">\r\n      <!-- 1.00 -->\r\n      <g transform=\"translate(627.218125 14.798438)scale(0.1 -0.1)\">\r\n       <use xlink:href=\"#DejaVuSans-49\"/>\r\n       <use x=\"63.623047\" xlink:href=\"#DejaVuSans-46\"/>\r\n       <use x=\"95.410156\" xlink:href=\"#DejaVuSans-48\"/>\r\n       <use x=\"159.033203\" xlink:href=\"#DejaVuSans-48\"/>\r\n      </g>\r\n     </g>\r\n    </g>\r\n   </g>\r\n   <g id=\"patch_4\">\r\n    <path d=\"M 593.038125 554.599219 \r\nL 593.038125 552.475781 \r\nL 593.038125 13.122656 \r\nL 593.038125 10.999219 \r\nL 620.218125 10.999219 \r\nL 620.218125 13.122656 \r\nL 620.218125 552.475781 \r\nL 620.218125 554.599219 \r\nz\r\n\" style=\"fill:none;\"/>\r\n   </g>\r\n  </g>\r\n </g>\r\n <defs>\r\n  <clipPath id=\"p3db4e05a97\">\r\n   <rect height=\"543.6\" width=\"535.68\" x=\"23.878125\" y=\"10.999219\"/>\r\n  </clipPath>\r\n  <clipPath id=\"p06efba3dde\">\r\n   <rect height=\"543.6\" width=\"27.18\" x=\"593.038125\" y=\"10.999219\"/>\r\n  </clipPath>\r\n </defs>\r\n</svg>\r\n",
      "image/png": "[encoded data removed]"
     },
     "metadata": {
      "needs_background": "light"
     }
    }
   ],
   "source": [
    "#i want to go a bit further and by linear regression, i want to predict the weight of that particular wrong roach data. but first let's see the correlation between them.\n",
    "import matplotlib.pyplot as plt\n",
    "import seaborn as sns\n",
    "corr = fishy.corr()\n",
    "corr_fig = plt.figure(figsize=(12,10))\n",
    "corr_ax = corr_fig.add_subplot(1,1,1)\n",
    "heatmap = sns.heatmap(corr[[\"Weight\"]].sort_values(by=\"Weight\",ascending=False),ax=corr_ax,vmin=-1,vmax=1,annot=True)"
   ]
  },
  {
   "cell_type": "code",
   "execution_count": 74,
   "metadata": {},
   "outputs": [
    {
     "output_type": "stream",
     "name": "stdout",
     "text": [
      "['Length1', 'Length2', 'Length3', 'Height', 'Width']\n(158, 5)\n"
     ]
    },
    {
     "output_type": "execute_result",
     "data": {
      "text/plain": [
       "(158,)"
      ]
     },
     "metadata": {},
     "execution_count": 74
    }
   ],
   "source": [
    "#seems like the correlation between parameters are pretty explanatory. continuing with building the linear regression model.\n",
    "import numpy as np\n",
    "\n",
    "y = np.array(not_zero[\"Weight\"])\n",
    "cols = fishy.columns.tolist()\n",
    "cols = cols[2:]\n",
    "print(cols)\n",
    "\n",
    "not_zero = fishy[~zero]\n",
    "x = not_zero[cols].values\n",
    "print(x.shape)\n",
    "y.shape\n"
   ]
  },
  {
   "cell_type": "code",
   "execution_count": 75,
   "metadata": {},
   "outputs": [
    {
     "output_type": "stream",
     "name": "stdout",
     "text": [
      "(158,)\n"
     ]
    },
    {
     "output_type": "execute_result",
     "data": {
      "text/plain": [
       "array([ 328.19437418,  370.92535752,  371.80704821,  439.27979128,\n",
       "        445.91261374,  466.55701976,  496.51707258,  474.96789072,\n",
       "        513.03551355,  542.19901817,  537.47055125,  552.91396646,\n",
       "        540.77135317,  557.29116193,  585.08565533,  608.17109057,\n",
       "        609.07383561,  603.55919346,  646.09512808,  631.21036285,\n",
       "        637.93365175,  672.26382612,  644.78249921,  652.5134714 ,\n",
       "        670.59843076,  667.15911988,  689.30051109,  698.41394827,\n",
       "        720.52604609,  795.2845538 ,  802.75633254,  806.54874722,\n",
       "        867.08102054,  909.93645654,  894.36651988,  -86.63722142,\n",
       "         36.12983099,   79.00733731,   94.02956217,  143.89017386,\n",
       "        137.75317835,  134.39410291,  163.24827267,  199.21777551,\n",
       "        184.0810313 ,  199.40576811,  212.73463448,  227.2864766 ,\n",
       "        224.74578845,  252.47897585,  288.17642204,  333.74836526,\n",
       "        347.09981498,  507.64960679,  302.52309561,  306.54066064,\n",
       "        374.45977288,  541.59273977,  696.2604203 ,  799.51306029,\n",
       "         14.62244413,   25.36779494,   97.30594348,  153.35145332,\n",
       "        193.63715538,  193.26584895,  219.95353464,  242.11105137,\n",
       "        299.08002129,  366.12062362,  402.78914894, -249.04417415,\n",
       "        -89.98844086,  -36.82472948,   21.39736156,   25.82384365,\n",
       "         59.27566744,   80.36939929,   91.2083365 ,   93.02702184,\n",
       "        101.59534674,  136.86489765,  137.35374522,  139.49878362,\n",
       "        163.70683501,  171.81285057,  161.43848057,  174.56379814,\n",
       "        168.00113936,  169.16094147,  183.15940028,  209.29833059,\n",
       "        191.36271726,  178.77430678,  223.96720397,  265.72029787,\n",
       "        242.47209591,  273.69312787,  267.70257147,  296.56133723,\n",
       "        370.92603269,  412.26013516,  366.54773596,  363.31946636,\n",
       "        375.18893389,  395.09784254,  436.53528256,  444.12614372,\n",
       "        620.46071453,  645.60940297,  717.91630658,  713.63001444,\n",
       "        727.38994265,  714.49499011,  718.73890836,  805.17074967,\n",
       "        770.2770283 ,  847.21109334,  809.4000295 ,  807.40375847,\n",
       "        833.94810555,  783.25428031,  879.61382296,  890.15731988,\n",
       "        920.36265601,  927.68679871,  947.82882577,  384.06369912,\n",
       "        415.19259107,  453.61914973,  540.1804563 ,  599.90443913,\n",
       "        574.27376305,  699.95836833,  690.44772553,  726.39214233,\n",
       "        739.31941522,  809.91692871,  832.47276922,  966.41991175,\n",
       "       1102.79703836, 1151.3060336 , 1151.3060336 , 1264.89542169,\n",
       "       -221.74866144, -196.69715668, -198.28546944, -175.50499577,\n",
       "       -174.9402701 , -177.82290197, -157.90243288, -160.66274538,\n",
       "       -159.57440341, -158.06582021, -143.338953  , -136.23369015,\n",
       "        -81.43957519,  -80.29542473])"
      ]
     },
     "metadata": {},
     "execution_count": 75
    }
   ],
   "source": [
    "from sklearn.linear_model import LinearRegression\n",
    "model = LinearRegression()\n",
    "model.fit(x,y)\n",
    "y_pre = model.predict(x)\n",
    "print(y_pre.shape)\n",
    "y_pre"
   ]
  },
  {
   "cell_type": "code",
   "execution_count": 62,
   "metadata": {},
   "outputs": [
    {
     "output_type": "execute_result",
     "data": {
      "text/plain": [
       "array([ 242. ,  290. ,  340. ,  363. ,  430. ,  450. ,  500. ,  390. ,\n",
       "        450. ,  500. ,  475. ,  500. ,  500. ,  340. ,  600. ,  600. ,\n",
       "        700. ,  700. ,  610. ,  650. ,  575. ,  685. ,  620. ,  680. ,\n",
       "        700. ,  725. ,  720. ,  714. ,  850. , 1000. ,  920. ,  955. ,\n",
       "        925. ,  975. ,  950. ,   40. ,   69. ,   78. ,   87. ,  120. ,\n",
       "        110. ,  120. ,  150. ,  145. ,  160. ,  140. ,  160. ,  169. ,\n",
       "        161. ,  200. ,  180. ,  290. ,  272. ,  390. ,  270. ,  270. ,\n",
       "        306. ,  540. ,  800. , 1000. ,   55. ,   60. ,   90. ,  120. ,\n",
       "        150. ,  140. ,  170. ,  145. ,  200. ,  273. ,  300. ,    5.9,\n",
       "         32. ,   40. ,   51.5,   70. ,  100. ,   78. ,   80. ,   85. ,\n",
       "         85. ,  110. ,  115. ,  125. ,  130. ,  120. ,  120. ,  130. ,\n",
       "        135. ,  110. ,  130. ,  150. ,  145. ,  150. ,  170. ,  225. ,\n",
       "        145. ,  188. ,  180. ,  197. ,  218. ,  300. ,  260. ,  265. ,\n",
       "        250. ,  250. ,  300. ,  320. ,  514. ,  556. ,  840. ,  685. ,\n",
       "        700. ,  700. ,  690. ,  900. ,  650. ,  820. ,  850. ,  900. ,\n",
       "       1015. ,  820. , 1100. , 1000. , 1100. , 1000. , 1000. ,  200. ,\n",
       "        300. ,  300. ,  300. ,  430. ,  345. ,  456. ,  510. ,  540. ,\n",
       "        500. ,  567. ,  770. ,  950. , 1250. , 1600. , 1550. , 1650. ,\n",
       "          6.7,    7.5,    7. ,    9.7,    9.8,    8.7,   10. ,    9.9,\n",
       "          9.8,   12.2,   13.4,   12.2,   19.7,   19.9])"
      ]
     },
     "metadata": {},
     "execution_count": 62
    }
   ],
   "source": [
    "y"
   ]
  },
  {
   "cell_type": "code",
   "execution_count": 70,
   "metadata": {},
   "outputs": [
    {
     "output_type": "stream",
     "name": "stdout",
     "text": [
      "(158,)\n"
     ]
    },
    {
     "output_type": "execute_result",
     "data": {
      "text/plain": [
       "(1, 6)"
      ]
     },
     "metadata": {},
     "execution_count": 70
    }
   ],
   "source": [
    "print(y.shape)\n",
    "x[0:1].shape"
   ]
  },
  {
   "cell_type": "code",
   "execution_count": 77,
   "metadata": {},
   "outputs": [
    {
     "output_type": "execute_result",
     "data": {
      "text/plain": [
       "array([150.0792716])"
      ]
     },
     "metadata": {},
     "execution_count": 77
    }
   ],
   "source": [
    "model.predict(zeroach)"
   ]
  },
  {
   "cell_type": "code",
   "execution_count": 89,
   "metadata": {},
   "outputs": [
    {
     "output_type": "execute_result",
     "data": {
      "text/plain": [
       "           Weight    Length1    Length2    Length3     Height      Width\n",
       "count   19.000000  19.000000  19.000000  19.000000  19.000000  19.000000\n",
       "mean   160.052632  20.731579  22.368421  25.084211   6.706353   3.673968\n",
       "std     83.528088   3.532398   3.727384   4.108699   1.294663   0.705412\n",
       "min     40.000000  12.900000  14.100000  16.200000   4.147200   2.268000\n",
       "25%    115.000000  18.850000  20.400000  22.650000   5.959550   3.309650\n",
       "50%    150.000000  20.500000  22.500000  25.000000   6.550000   3.631200\n",
       "75%    174.500000  22.050000  23.750000  27.000000   7.241700   3.870600\n",
       "max    390.000000  29.500000  31.700000  35.000000   9.485000   5.355000"
      ],
      "text/html": "<div>\n<style scoped>\n    .dataframe tbody tr th:only-of-type {\n        vertical-align: middle;\n    }\n\n    .dataframe tbody tr th {\n        vertical-align: top;\n    }\n\n    .dataframe thead th {\n        text-align: right;\n    }\n</style>\n<table border=\"1\" class=\"dataframe\">\n  <thead>\n    <tr style=\"text-align: right;\">\n      <th></th>\n      <th>Weight</th>\n      <th>Length1</th>\n      <th>Length2</th>\n      <th>Length3</th>\n      <th>Height</th>\n      <th>Width</th>\n    </tr>\n  </thead>\n  <tbody>\n    <tr>\n      <th>count</th>\n      <td>19.000000</td>\n      <td>19.000000</td>\n      <td>19.000000</td>\n      <td>19.000000</td>\n      <td>19.000000</td>\n      <td>19.000000</td>\n    </tr>\n    <tr>\n      <th>mean</th>\n      <td>160.052632</td>\n      <td>20.731579</td>\n      <td>22.368421</td>\n      <td>25.084211</td>\n      <td>6.706353</td>\n      <td>3.673968</td>\n    </tr>\n    <tr>\n      <th>std</th>\n      <td>83.528088</td>\n      <td>3.532398</td>\n      <td>3.727384</td>\n      <td>4.108699</td>\n      <td>1.294663</td>\n      <td>0.705412</td>\n    </tr>\n    <tr>\n      <th>min</th>\n      <td>40.000000</td>\n      <td>12.900000</td>\n      <td>14.100000</td>\n      <td>16.200000</td>\n      <td>4.147200</td>\n      <td>2.268000</td>\n    </tr>\n    <tr>\n      <th>25%</th>\n      <td>115.000000</td>\n      <td>18.850000</td>\n      <td>20.400000</td>\n      <td>22.650000</td>\n      <td>5.959550</td>\n      <td>3.309650</td>\n    </tr>\n    <tr>\n      <th>50%</th>\n      <td>150.000000</td>\n      <td>20.500000</td>\n      <td>22.500000</td>\n      <td>25.000000</td>\n      <td>6.550000</td>\n      <td>3.631200</td>\n    </tr>\n    <tr>\n      <th>75%</th>\n      <td>174.500000</td>\n      <td>22.050000</td>\n      <td>23.750000</td>\n      <td>27.000000</td>\n      <td>7.241700</td>\n      <td>3.870600</td>\n    </tr>\n    <tr>\n      <th>max</th>\n      <td>390.000000</td>\n      <td>29.500000</td>\n      <td>31.700000</td>\n      <td>35.000000</td>\n      <td>9.485000</td>\n      <td>5.355000</td>\n    </tr>\n  </tbody>\n</table>\n</div>"
     },
     "metadata": {},
     "execution_count": 89
    }
   ],
   "source": [
    "roaches[roaches[\"Weight\"] != 0.0].describe() "
   ]
  },
  {
   "cell_type": "code",
   "execution_count": 81,
   "metadata": {},
   "outputs": [],
   "source": [
    "# as we can see, our predicted value of weight is more or less the same. i can say it's not worth such an effort to fix this mistake in the dataset because we didn't recieve meaningful response from what we did. for this situation, it could be more optimal if we've considered replacing that 0 with the average of roaches. i knew it from the beginning but still wanted to practice this way and that's why i didn't use train/test approach."
   ]
  },
  {
   "cell_type": "code",
   "execution_count": 97,
   "metadata": {},
   "outputs": [
    {
     "output_type": "execute_result",
     "data": {
      "text/plain": [
       "150.0"
      ]
     },
     "metadata": {},
     "execution_count": 97
    }
   ],
   "source": [
    "fishy[\"Weight\"].replace(0.0,150,inplace=True)\n",
    "fishy.iloc[40,1]"
   ]
  },
  {
   "cell_type": "code",
   "execution_count": 109,
   "metadata": {},
   "outputs": [
    {
     "output_type": "execute_result",
     "data": {
      "text/plain": [
       "['Species', 'Weight', 'Length1', 'Length2', 'Length3', 'Height', 'Width']"
      ]
     },
     "metadata": {},
     "execution_count": 109
    }
   ],
   "source": [
    "cols = fishy.columns.tolist()\n",
    "cols"
   ]
  },
  {
   "cell_type": "code",
   "execution_count": 114,
   "metadata": {},
   "outputs": [
    {
     "output_type": "stream",
     "name": "stdout",
     "text": [
      "(159, 6)\n(159,)\n100\n"
     ]
    }
   ],
   "source": [
    "# we fixed this, let's move on to classifying the fish types, let's try DecisionTreeClassifier.\n",
    "from sklearn.tree import DecisionTreeClassifier\n",
    "from sklearn.metrics import accuracy_score\n",
    "\n",
    "#remembering when we first assigned our parameters to x and y, we excluded weight column in x and excluded the problematic row with 0 weight. now we need to reassign these values as arrays.\n",
    "cols = fishy.columns.tolist()\n",
    "cols = cols[1:]\n",
    "x = fishy[cols].values\n",
    "y = np.array(fishy[\"Species\"])\n",
    "print(x.shape)\n",
    "print(y.shape)\n",
    "\n",
    "dtc_model = DecisionTreeClassifier(random_state=28)\n",
    "dtc_model.fit(x,y)\n",
    "y_pre = dtc_model.predict(x)\n",
    "\n",
    "acc_val = accuracy_score(y,y_pre)\n",
    "print(\"{:.0f}\".format(acc_val*100))"
   ]
  },
  {
   "cell_type": "code",
   "execution_count": 116,
   "metadata": {},
   "outputs": [
    {
     "output_type": "execute_result",
     "data": {
      "text/plain": [
       "13"
      ]
     },
     "metadata": {},
     "execution_count": 116
    }
   ],
   "source": [
    "dtc_model.get_depth()"
   ]
  },
  {
   "cell_type": "code",
   "execution_count": 117,
   "metadata": {},
   "outputs": [
    {
     "output_type": "execute_result",
     "data": {
      "text/plain": [
       "array([0.01425667, 0.13490823, 0.11596368, 0.07844972, 0.49736527,\n",
       "       0.15905643])"
      ]
     },
     "metadata": {},
     "execution_count": 117
    }
   ],
   "source": [
    "dtc_model.feature_importances_"
   ]
  },
  {
   "cell_type": "code",
   "execution_count": 121,
   "metadata": {},
   "outputs": [
    {
     "output_type": "stream",
     "name": "stdout",
     "text": [
      "              precision    recall  f1-score   support\n\n       Bream       1.00      1.00      1.00        35\n      Parkki       1.00      1.00      1.00        11\n       Perch       1.00      1.00      1.00        56\n        Pike       1.00      1.00      1.00        17\n       Roach       1.00      1.00      1.00        20\n       Smelt       1.00      1.00      1.00        14\n   Whitefish       1.00      1.00      1.00         6\n\n    accuracy                           1.00       159\n   macro avg       1.00      1.00      1.00       159\nweighted avg       1.00      1.00      1.00       159\n\n"
     ]
    }
   ],
   "source": [
    "from sklearn.metrics import classification_report\n",
    "report = classification_report(y,y_pre)\n",
    "print(report)"
   ]
  },
  {
   "cell_type": "code",
   "execution_count": null,
   "metadata": {},
   "outputs": [],
   "source": []
  }
 ]
}